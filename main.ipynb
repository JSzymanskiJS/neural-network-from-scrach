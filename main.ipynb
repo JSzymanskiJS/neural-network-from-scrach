{
 "cells": [
  {
   "cell_type": "markdown",
   "metadata": {},
   "source": [
    "# Importy"
   ]
  },
  {
   "cell_type": "code",
   "execution_count": 2,
   "metadata": {},
   "outputs": [],
   "source": [
    "import cv2 # Korzystaj z kamerki komputera / obrabianie zdjęć\n",
    "import mediapipe as mp # Wykorzystaj model do detekcji punktów na twarzy\n",
    "import numpy as np # Umiej w matematykę bardziej ;P\n",
    "import json # Pracuj z plikami typu json"
   ]
  },
  {
   "cell_type": "markdown",
   "metadata": {},
   "source": [
    "# Stałe"
   ]
  },
  {
   "cell_type": "code",
   "execution_count": 3,
   "metadata": {},
   "outputs": [],
   "source": [
    "mp_drawing = mp.solutions.drawing_utils\n",
    "mp_face = mp.solutions.face_mesh\n",
    "\n",
    "with open(\"aa_inputs.json\") as inputs_file: # Przy użyciu funkcji 'open()' przy użyciu pliku \"imputs.json\"... \n",
    "    inputs = json.load(inputs_file) # ...zaimportuj dane z tego pliku.\n",
    "\n",
    "with open(\"aa_desired_outputs.json\") as desired_outputs_file: # Przy użyciu funkcji 'open()' przy użyciu pliku \"desired_outputs.json\"...\n",
    "    desired_outputs = json.load(desired_outputs_file) # ...zaimportuj dane z tego pliku."
   ]
  },
  {
   "cell_type": "markdown",
   "metadata": {},
   "source": [
    "# Definicja Warstwy"
   ]
  },
  {
   "cell_type": "code",
   "execution_count": 5,
   "metadata": {},
   "outputs": [],
   "source": [
    "class Dense_Layer:    \n",
    "    def __init__(self, n_inputs, n_neurons) -> None:\n",
    "        self.weights = 0.10 * np.random.randn(n_inputs, n_neurons)\n",
    "        self.biases = np.zeros((1, n_neurons))\n",
    "        self.is_summed = False\n",
    "    \n",
    "    def sigmoid_forward(self, inputs):\n",
    "        self.output = 1/(1 + np.exp(-inputs))\n",
    "    def sigmoid_backward(self, outputs_backward): #derivative\n",
    "        self.sigmoid_backward_output = outputs_backward * (1 - outputs_backward)\n",
    "    \n",
    "    def forward_propagation(self, inputs):\n",
    "        self.sums = np.dot(inputs, self.weights) + self.biases\n",
    "        self.is_summed = True\n",
    "        return self.sigmoid_forward(self.sums)\n",
    "    def backward_propagation(self, desired_outputs, inputs):\n",
    "        if(self.is_summed):\n",
    "            cost = self.sigmoid_backward(desired_outputs - self.activation)\n",
    "            x = cost \n",
    "            self.is_summed = False\n",
    "            return self.sigmoid_backward()\n",
    "        \n"
   ]
  },
  {
   "cell_type": "markdown",
   "metadata": {},
   "source": [
    "# Zebranie danych ze zdjęć"
   ]
  },
  {
   "cell_type": "markdown",
   "metadata": {},
   "source": [
    "# Testowanie"
   ]
  },
  {
   "cell_type": "code",
   "execution_count": 6,
   "metadata": {},
   "outputs": [
    {
     "ename": "AttributeError",
     "evalue": "type object 'SolutionOutputs' has no attribute 'face_landmarks'",
     "output_type": "error",
     "traceback": [
      "\u001b[1;31m---------------------------------------------------------------------------\u001b[0m",
      "\u001b[1;31mAttributeError\u001b[0m                            Traceback (most recent call last)",
      "\u001b[1;32m<ipython-input-6-f076637655bd>\u001b[0m in \u001b[0;36m<module>\u001b[1;34m\u001b[0m\n\u001b[0;32m     14\u001b[0m         \u001b[0mimage\u001b[0m \u001b[1;33m=\u001b[0m \u001b[0mcv2\u001b[0m\u001b[1;33m.\u001b[0m\u001b[0mcvtColor\u001b[0m\u001b[1;33m(\u001b[0m\u001b[0mimage\u001b[0m\u001b[1;33m,\u001b[0m \u001b[0mcv2\u001b[0m\u001b[1;33m.\u001b[0m\u001b[0mCOLOR_RGB2BGR\u001b[0m\u001b[1;33m)\u001b[0m\u001b[1;33m\u001b[0m\u001b[1;33m\u001b[0m\u001b[0m\n\u001b[0;32m     15\u001b[0m         \u001b[1;31m# Draw face landmarks\u001b[0m\u001b[1;33m\u001b[0m\u001b[1;33m\u001b[0m\u001b[1;33m\u001b[0m\u001b[0m\n\u001b[1;32m---> 16\u001b[1;33m         \u001b[0mmp_drawing\u001b[0m\u001b[1;33m.\u001b[0m\u001b[0mdraw_landmarks\u001b[0m\u001b[1;33m(\u001b[0m\u001b[0mimage\u001b[0m\u001b[1;33m,\u001b[0m \u001b[0mresults\u001b[0m\u001b[1;33m.\u001b[0m\u001b[0mface_landmarks\u001b[0m\u001b[1;33m,\u001b[0m \u001b[0mmp_face\u001b[0m\u001b[1;33m.\u001b[0m\u001b[0mFACE_CONNECTIONS\u001b[0m\u001b[1;33m)\u001b[0m\u001b[1;33m\u001b[0m\u001b[1;33m\u001b[0m\u001b[0m\n\u001b[0m\u001b[0;32m     17\u001b[0m \u001b[1;33m\u001b[0m\u001b[0m\n\u001b[0;32m     18\u001b[0m         \u001b[0mcv2\u001b[0m\u001b[1;33m.\u001b[0m\u001b[0mimshow\u001b[0m\u001b[1;33m(\u001b[0m\u001b[1;34m'Raw Webcam Feed'\u001b[0m\u001b[1;33m,\u001b[0m \u001b[0mframe\u001b[0m\u001b[1;33m)\u001b[0m\u001b[1;33m\u001b[0m\u001b[1;33m\u001b[0m\u001b[0m\n",
      "\u001b[1;31mAttributeError\u001b[0m: type object 'SolutionOutputs' has no attribute 'face_landmarks'"
     ]
    }
   ],
   "source": [
    "image_capture_model = cv2.VideoCapture(0) # Choose appropriate number for your machine.\n",
    "\n",
    "with mp_face.FaceMesh(min_detection_confidence=0.5, min_tracking_confidence=0.5) as face_mesh:\n",
    "\n",
    "    while image_capture_model.isOpened():\n",
    "        ret, frame = image_capture_model.read()\n",
    "        \n",
    "        # Recolor Feed\n",
    "        image = cv2.cvtColor(frame, cv2.COLOR_BGR2RGB)\n",
    "        # Make Detections (mediapipe likes RGB :D)\n",
    "        results = face_mesh.process(image)\n",
    "        \n",
    "        # Recolor image back to BGR for rendering (open-cv loves BRG <3)\n",
    "        image = cv2.cvtColor(image, cv2.COLOR_RGB2BGR)\n",
    "        # Draw face landmarks\n",
    "        mp_drawing.draw_landmarks(image, results.face_landmarks, mp_face.FACE_CONNECTIONS)\n",
    "        \n",
    "        cv2.imshow('Raw Webcam Feed', frame)\n",
    "        \n",
    "        if cv2.waitKey(10) & 0xFF == ord('q'):\n",
    "            break\n",
    "\n",
    "image_capture_model.release()\n",
    "cv2.destroyAllWindows()"
   ]
  }
 ],
 "metadata": {
  "interpreter": {
   "hash": "ee5cc6fef2d70a7e71ee3826687cbd150f18158e0b1eef11d4f4f92bb920e304"
  },
  "kernelspec": {
   "display_name": "Python 3.9.4 64-bit",
   "language": "python",
   "name": "python3"
  },
  "language_info": {
   "codemirror_mode": {
    "name": "ipython",
    "version": 3
   },
   "file_extension": ".py",
   "mimetype": "text/x-python",
   "name": "python",
   "nbconvert_exporter": "python",
   "pygments_lexer": "ipython3",
   "version": "3.9.4"
  },
  "orig_nbformat": 4
 },
 "nbformat": 4,
 "nbformat_minor": 2
}
