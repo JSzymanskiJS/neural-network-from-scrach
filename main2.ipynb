{
 "cells": [
  {
   "cell_type": "markdown",
   "metadata": {},
   "source": [
    "# Detekcja emocji ze zdjęć\n",
    "\n",
    "## Importowanie bibliotek"
   ]
  },
  {
   "cell_type": "code",
   "execution_count": 2,
   "metadata": {},
   "outputs": [],
   "source": [
    "import cv2 # Korzystanie z kamerki komputera / obrabianie zdjęć\n",
    "import mediapipe as mp # Model do detekcji punktów na twarzy\n",
    "import numpy as np # Fajniejsze funkcje do operacji matematycznych\n",
    "import json # Pracuj z plikami typu json"
   ]
  },
  {
   "cell_type": "markdown",
   "metadata": {},
   "source": [
    "## Przygotowywanie zmiennych globalnych"
   ]
  },
  {
   "cell_type": "code",
   "execution_count": 3,
   "metadata": {},
   "outputs": [],
   "source": [
    "mp_face_mesh = mp.solutions.face_mesh # Przygotowywanie modelu do ekstrakcji siatki twarzy  \n",
    "mp_drawing = mp.solutions.drawing_utils # Przygotowywanie narzędzi do rysowania siatki twarzy na zdjęciu\n",
    "\n",
    "with open(\"aa_inputs.json\") as inputs_file: # Przy użyciu funkcji 'open()' przy użyciu pliku \"imputs.json\"... \n",
    "    inputs = json.load(inputs_file) # ...zaimportuj dane z tego pliku.\n",
    "\n",
    "with open(\"aa_desired_outputs.json\") as desired_outputs_file: # Przy użyciu funkcji 'open()' przy użyciu pliku \"desired_outputs.json\"...\n",
    "    desired_outputs = json.load(desired_outputs_file) # ...zaimportuj dane z tego pliku."
   ]
  },
  {
   "cell_type": "markdown",
   "metadata": {},
   "source": [
    "## Definicja warstw sieci neuronowej"
   ]
  },
  {
   "cell_type": "code",
   "execution_count": null,
   "metadata": {},
   "outputs": [],
   "source": [
    "#Sieć będzie miała 1404 wejścia, jedną warstwę ukrytą o 500 neuronach i 5 wyjść\n",
    "\n",
    "class Dense_Layer:    \n",
    "    def __init__(self, n_inputs, n_neurons, learning_coefficient: float = 0.2) -> None:\n",
    "        self.weights = 0.10 * np.random.randn(n_inputs, n_neurons) # Wagi po \"lewej\" stronie warstwy.\n",
    "        self.biases = np.zeros((1, n_neurons)) # Wartości progowe\n",
    "        self.is_summed = False # Flaga propagacji w przód \n",
    "        self.learning_coefficient = learning_coefficient # Współczynnik uczenia odpowiada na pytanie: \"Jak bardzo mocno ma się poprawiać algorytm za każdą sesją uczenia się?\".\n",
    "    \n",
    "    def sigmoid(self, inputs):\n",
    "        self.output = 1/(1 + np.exp(-inputs))\n",
    "    # def sigmoid_derivative(self, outputs_backward): \n",
    "    #     self.sigmoid_backward_output = outputs_backward * (1 - outputs_backward)\n",
    "    \n",
    "    def forward_propagation(self, inputs):\n",
    "        self.sums = np.dot(inputs, self.weights) + self.biases\n",
    "        self.is_summed = True\n",
    "        return self.sigmoid(self.sums)\n",
    "    def backward_propagation(self, desired_outputs, inputs):\n",
    "        if(self.is_summed):\n",
    "            # Obliczanie kosztu\n",
    "            cost = (desired_outputs - self.activation) * (self.activation * (1-self.activation)) #delta\n",
    "            #zmiany wag aktualnej warstwy \n",
    "            self.weights = self.weights + self.learning_coefficient * cost * inputs #TODO Uogólnij to dla każdej możliwej warstwy\n",
    "            \n",
    "            self.is_summed = False\n",
    "            return cost\n",
    "        \n",
    "\n",
    "if __name__ == \"__main__\":\n",
    "    layer1 = Dense_Layer(1404, 500)\n",
    "    layer2 = Dense_Layer(500, 5)\n",
    "    \n",
    "    # Uczenie się\n",
    "    # Propagacja w przód\n",
    "    \n",
    "    # Propagacja wstecz\n",
    "    "
   ]
  }
 ],
 "metadata": {
  "interpreter": {
   "hash": "ee5cc6fef2d70a7e71ee3826687cbd150f18158e0b1eef11d4f4f92bb920e304"
  },
  "kernelspec": {
   "display_name": "Python 3.9.4 64-bit",
   "language": "python",
   "name": "python3"
  },
  "language_info": {
   "codemirror_mode": {
    "name": "ipython",
    "version": 3
   },
   "file_extension": ".py",
   "mimetype": "text/x-python",
   "name": "python",
   "nbconvert_exporter": "python",
   "pygments_lexer": "ipython3",
   "version": "3.9.4"
  },
  "orig_nbformat": 4
 },
 "nbformat": 4,
 "nbformat_minor": 2
}
